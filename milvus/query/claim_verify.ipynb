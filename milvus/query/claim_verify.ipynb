{
 "cells": [
  {
   "cell_type": "markdown",
   "id": "7e5a0e1d-9837-4b36-9289-5b88fd9dd833",
   "metadata": {},
   "source": [
    "## Demo: Leveraging Large Language Models (LLMs) to Validate Medical Claims with PubMed Research"
   ]
  },
  {
   "cell_type": "markdown",
   "id": "eef9a9f9-adbc-470f-95a7-5a4b7fc5fc8f",
   "metadata": {},
   "source": [
    "This notebook demonstrates a workflow for validating medical claims using Large Language Models (LLMs) alongside scientific evidence sourced from PubMed. The steps are:\n",
    "\n",
    "1. Claim Definition: define a medical claim, provide an edge from a (knowledge) graph, or propose a hypothesis that you want to verify.\n",
    "\n",
    "2. Evidence Retrieval: Utilize Milvus to efficiently search and retrieve relevant sentences from PubMed articles.\n",
    "\n",
    "3. Claim Verification: Apply LLMs to assess the accuracy of the medical claim (defined in step 1) based on the retrieved evidence (from step 2).\n",
    "\n",
    "4. Result Analysis: Present the results provided by the LLMs, and use any statistcs to interpret the results."
   ]
  },
  {
   "cell_type": "markdown",
   "id": "96dfd93a-b658-432b-9d30-6d490460a9c8",
   "metadata": {},
   "source": [
    "##### After launching the Milvus container in Docker, wait until at least **1** node is ready to load the collections."
   ]
  },
  {
   "cell_type": "code",
   "execution_count": 23,
   "id": "76c179ff-d3a1-4398-b4d0-4a52822fa337",
   "metadata": {},
   "outputs": [
    {
     "name": "stdout",
     "output_type": "stream",
     "text": [
      "Node avialability: 1\n"
     ]
    }
   ],
   "source": [
    "from pymilvus import connections\n",
    "from pymilvus import utility\n",
    "\n",
    "connections.connect(\n",
    "  alias=\"default\",\n",
    "  uri=\"http://localhost:19530\",\n",
    "  token=\"root:Milvus\",\n",
    ")\n",
    "info = utility.describe_resource_group(name='__default_resource_group')\n",
    "num_available_node = info.num_available_node\n",
    "print(f\"Node avialability: {num_available_node}\")"
   ]
  },
  {
   "cell_type": "markdown",
   "id": "548b60b3-b0df-4ee4-8ed6-18f9d09456b0",
   "metadata": {},
   "source": [
    "##### If you see at least \"1\" printed from the cell above, you may continue running the following cells. Otherwise, wait a moment and rerun the cell above until at least \"1\" appears."
   ]
  },
  {
   "cell_type": "code",
   "execution_count": 36,
   "id": "80bd8a7d-30c9-42bf-9a3f-14be45aaeb0b",
   "metadata": {},
   "outputs": [],
   "source": [
    "from pymilvus import MilvusClient\n",
    "import time\n",
    "import requests\n",
    "import json\n",
    "from utils import extract_non_think, generate_claim, embed_sentence"
   ]
  },
  {
   "cell_type": "markdown",
   "id": "61f8180b-ed11-436b-9cb8-1ecb114638d8",
   "metadata": {},
   "source": [
    "##### The following cell defines:\n",
    "\n",
    "1. The medical claim or edge you'd like to verify.\n",
    "2. The Milvus collection name (pubmed_sentence_XX, where XX ranges from 00 to 09) to search for supporting evidence.\n",
    "3. The Large Language Model(s) you'd like to use for claim verification."
   ]
  },
  {
   "cell_type": "code",
   "execution_count": 41,
   "id": "5066cf74-f288-4560-8cb7-ff4617977b74",
   "metadata": {},
   "outputs": [],
   "source": [
    "#  provide an edge with the following format\n",
    "edge = {'subject': 'ginger',\n",
    "        'object': 'nausea',\n",
    "        'predicate': 'Biolink:treats'}\n",
    "claim = generate_claim(edge)\n",
    "\n",
    "# or provide a claim which is a sentence\n",
    "# claim = 'ginger treats nausea'\n",
    "\n",
    "# vectorize the claim for semantic search conducted in the following step\n",
    "claim_vector = embed_sentence(claim)\n",
    "\n",
    "which_collection = 'pubmed_sentence_00'\n",
    "LLMs = ['phi4', 'gemma3:4b', 'deepseek-r1:8b', 'llama3.1:8b', 'mistral:7b']"
   ]
  },
  {
   "cell_type": "markdown",
   "id": "f349a3db-723f-4eb5-a4d7-65c941ef7c82",
   "metadata": {},
   "source": [
    "##### Connect to the milvus-standalone container and load the collection specified above by which_collection. (This might take a while - about 1 minute)"
   ]
  },
  {
   "cell_type": "code",
   "execution_count": 43,
   "id": "ff4b24cd-6108-4e3e-835d-f5a6e884cae2",
   "metadata": {},
   "outputs": [],
   "source": [
    "client = MilvusClient(\n",
    "    uri=\"http://localhost:19530\",\n",
    "    token=\"root:Milvus\"\n",
    ")\n",
    "\n",
    "client.load_collection(\n",
    "    collection_name=which_collection,\n",
    "    # replica_number=1\n",
    ")"
   ]
  },
  {
   "cell_type": "markdown",
   "id": "87c62871-6817-4e97-aa63-0c436d8045ff",
   "metadata": {},
   "source": [
    "##### Perform a semantic search using your claim to retrieve relevant sentences from the Milvus collection with `client.search()`."
   ]
  },
  {
   "cell_type": "code",
   "execution_count": 47,
   "id": "a32c26c7-0199-4c5f-84cd-4d7f2b6ca2f0",
   "metadata": {},
   "outputs": [
    {
     "name": "stdout",
     "output_type": "stream",
     "text": [
      "15 relevant sentences were retrieved from a subset of PubMed.\n"
     ]
    }
   ],
   "source": [
    "# semantic search\n",
    "res = client.search(\n",
    "    collection_name=which_collection,  # target collection\n",
    "    data=claim_vector,  # query vectors\n",
    "    limit=30,  # number of returned entities\n",
    "    search_params={\n",
    "        # highlight-start\n",
    "        \"params\": {\n",
    "            \"radius\": 0.75,\n",
    "            \"range_filter\": 1.0\n",
    "        }\n",
    "        # highlight-end\n",
    "    },\n",
    "    output_fields=[\"sentence\", \"pmid\"],  # specifies fields to be returned\n",
    ")\n",
    "pmids = set([i['entity']['pmid'] for i in res[0]])\n",
    "context = [i['entity']['sentence'] for i in res[0]]\n",
    "print(f\"{len(context)} relevant sentences were retrieved from a subset of PubMed.\")"
   ]
  },
  {
   "cell_type": "markdown",
   "id": "f08b97a8-f760-4be4-a516-854b665cd03b",
   "metadata": {},
   "source": [
    "##### Then, generate a prompt using these retrieved sentences."
   ]
  },
  {
   "cell_type": "code",
   "execution_count": 49,
   "id": "747378f9-1b35-455f-a4cd-9e42bbfd87ea",
   "metadata": {},
   "outputs": [
    {
     "name": "stdout",
     "output_type": "stream",
     "text": [
      "The prompt will be used for LLMs queries -\n",
      "Claim: ginger treats nausea\n",
      "Context:\n",
      "Ginger has been used to treat numerous types of nausea and vomiting.\n",
      "It is concluded that the efficiency of ginger in reducing nausea and vomiting may be based on a weak inhibitory effect of gingerols and shogaols at M (3) and 5-HT (3) receptors.\n",
      "Ginger has also been studied for its efficacy for acute chemotherapy-induced nausea and vomiting (CINV).\n",
      "Ginger has been used in postoperative and pregnancy-induced nausea and vomiting.\n",
      "The aim of this study was to determine the effects of ginger in nausea and vomiting of pregnancy.\n",
      "Ginger is efficacious for nausea and vomiting in pregnancy but is limited in its safety data.\n",
      "Phase II trial of encapsulated ginger as a treatment for chemotherapy-induced nausea and vomiting.\n",
      "Scientific studies suggest that ginger (Zingiber officinale) might have beneficial effects on nausea and vomiting associated with motion sickness, surgery, and pregnancy.\n",
      "Protein and ginger for the treatment of chemotherapy-induced delayed nausea.\n",
      "Ginger reduces severity of nausea in early pregnancy compared with vitamin B6, and the two treatments are similarly effective for reducing number of vomiting episodes.\n",
      "In addition, the results of RCT testing the benefit of ginger in preventing post-chemotherapy nausea were examined.\n",
      "Gingerol is the generic term for pungent constituents in ginger, which has been reported to be effective for inhibiting vomiting.\n",
      "Ginger has been reported to improve upper gastrointestinal symptoms.\n",
      "The herbal drug ginger (Zingiber officinale Roscoe) may be effective for treating nausea, vomiting, and gastric hypomotility.\n",
      "Effects of ginger capsules on pregnancy, nausea, and vomiting.\n",
      "Question: Does the context support the claim? ***Just return Yes or No.***\n",
      "\n"
     ]
    }
   ],
   "source": [
    "prompt = f\"\"\"Claim: {claim}\n",
    "Context:\n",
    "{\"\\n\".join(context)}\n",
    "Question: Does the context support the claim? ***Just return Yes or No.***\n",
    "\"\"\"\n",
    "print(f\"The prompt will be used for LLMs queries -\\n{prompt}\")"
   ]
  },
  {
   "cell_type": "markdown",
   "id": "53caa513-1c89-4215-8396-2dbd78daf710",
   "metadata": {},
   "source": [
    "##### Finally, query the LLM(s) you specified earlier, collect their responses, and record the results for statistical analysis."
   ]
  },
  {
   "cell_type": "code",
   "execution_count": 53,
   "id": "07082390-228b-4192-84bc-27d657700128",
   "metadata": {},
   "outputs": [
    {
     "name": "stdout",
     "output_type": "stream",
     "text": [
      "There were 5 LLMs were queried and returning responses -\n",
      "phi4: Yes. The context provides multiple references to studies and trials that indicate ginger is used to treat various types of nausea and vomiting, including chemotherapy-induced nausea, postoperative nausea, motion sickness, pregnancy-related nausea, and more. This supports the claim that ginger treats nausea.\n",
      "gemma3:4b: Yes\n",
      "deepseek-r1:8b: Yes.\n",
      "llama3.1:8b: Yes\n",
      "mistral:7b: Yes.\n",
      "The confident score for this edge being correct is 1.0,\n",
      "with the evidences {20842754, 21305447, 20041096, 18403946, 18632524, 20436140, 20193490, 19250006, 19005687, 22060218, 18537470}\n"
     ]
    }
   ],
   "source": [
    "LLM_url = \"http://localhost:11434/api/generate\"\n",
    "headers = {\n",
    "    \"Content-Type\": \"application/json\"\n",
    "}\n",
    "results = []\n",
    "responses = []\n",
    "for LLM in LLMs:\n",
    "    data = {\n",
    "        \"model\": LLM,\n",
    "        \"prompt\": prompt,\n",
    "        \"stream\": False\n",
    "    }\n",
    "    response = requests.post(LLM_url, headers=headers, data=json.dumps(data))\n",
    "    if response.status_code == 200:\n",
    "        response_text = response.text\n",
    "        data = json.loads(response_text)\n",
    "        actual_resonse = data['response'].strip()\n",
    "        # print(actual_resonse)\n",
    "        if LLM == 'deepseek-r1:8b':\n",
    "            actual_resonse = extract_non_think(actual_resonse)\n",
    "        responses.append(f\"{LLM}: {actual_resonse}\")\n",
    "        if actual_resonse[:3].lower() == 'yes':\n",
    "            results.append(1)\n",
    "        elif actual_resonse[:2].lower() == 'no':\n",
    "            results.append(0)\n",
    "        else:\n",
    "            print(f\"Error: not a proper answer from {LLM}\", actual_resonse)\n",
    "    else:\n",
    "        print(\"Error\", LLM, response.status_code, response.text)\n",
    "\n",
    "score = sum(results)/len(results)\n",
    "print(f\"There were {len(results)} LLMs were queried and returning responses -\\n{\"\\n\".join(responses)}.\\nThe confident score for this edge being correct is {score},\\nwith the evidences {pmids}\")\n"
   ]
  },
  {
   "cell_type": "markdown",
   "id": "5a42f07a-9231-4f07-9bd6-4176989923d7",
   "metadata": {},
   "source": [
    "##### (Optional: Release the collection to optimize RAM usage.)"
   ]
  },
  {
   "cell_type": "code",
   "execution_count": 55,
   "id": "5a84fbfd-e089-462e-afa8-407c4d22234e",
   "metadata": {},
   "outputs": [
    {
     "name": "stdout",
     "output_type": "stream",
     "text": [
      "{'state': <LoadState: NotLoad>}\n"
     ]
    }
   ],
   "source": [
    "client.release_collection(\n",
    "    collection_name=which_collection\n",
    ")\n",
    "\n",
    "res = client.get_load_state(\n",
    "    collection_name=which_collection\n",
    ")\n",
    "\n",
    "print(res)"
   ]
  },
  {
   "cell_type": "code",
   "execution_count": null,
   "id": "7f40b8f4-a6b1-4d2b-b7c6-80957826fa78",
   "metadata": {},
   "outputs": [],
   "source": []
  }
 ],
 "metadata": {
  "kernelspec": {
   "display_name": "TranslatorQARAG",
   "language": "python",
   "name": "translatorqarag"
  },
  "language_info": {
   "codemirror_mode": {
    "name": "ipython",
    "version": 3
   },
   "file_extension": ".py",
   "mimetype": "text/x-python",
   "name": "python",
   "nbconvert_exporter": "python",
   "pygments_lexer": "ipython3",
   "version": "3.12.4"
  }
 },
 "nbformat": 4,
 "nbformat_minor": 5
}
