{
 "cells": [
  {
   "cell_type": "markdown",
   "id": "3acecae5-979b-4911-891a-f43ab1421e83",
   "metadata": {},
   "source": [
    "Download the full version of PubMed 2024: https://ftp.ncbi.nlm.nih.gov/pubmed/baseline/"
   ]
  },
  {
   "cell_type": "code",
   "execution_count": 1,
   "id": "17f1bbcc-3ef6-4cfb-857e-358611e953b7",
   "metadata": {},
   "outputs": [
    {
     "name": "stderr",
     "output_type": "stream",
     "text": [
      "/home/kaiwenhe/.conda/envs/RAG/lib/python3.12/site-packages/sentence_transformers/cross_encoder/CrossEncoder.py:13: TqdmWarning: IProgress not found. Please update jupyter and ipywidgets. See https://ipywidgets.readthedocs.io/en/stable/user_install.html\n",
      "  from tqdm.autonotebook import tqdm, trange\n",
      "[nltk_data] Downloading package punkt to /home/kaiwenhe/nltk_data...\n",
      "[nltk_data]   Package punkt is already up-to-date!\n"
     ]
    }
   ],
   "source": [
    "import pandas as pd\n",
    "from nltk.tokenize import sent_tokenize\n",
    "from sentence_transformers import SentenceTransformer\n",
    "import warnings\n",
    "from tqdm.autonotebook import tqdm, trange\n",
    "import nltk\n",
    "import time\n",
    "import xml.etree.ElementTree as ET\n",
    "# Download NLTK data\n",
    "nltk.download('punkt')\n",
    "import gzip\n",
    "import torch\n",
    "import os"
   ]
  },
  {
   "cell_type": "code",
   "execution_count": 2,
   "id": "f336aee6-c66b-4a14-a7e6-4c43dda94540",
   "metadata": {},
   "outputs": [
    {
     "name": "stdout",
     "output_type": "stream",
     "text": [
      "cuda\n"
     ]
    }
   ],
   "source": [
    "model = SentenceTransformer('all-MiniLM-L6-v2')\n",
    "# model.save(\"./cache\")\n",
    "device = torch.device(\"cuda\" if torch.cuda.is_available() else \"cpu\")\n",
    "print(device)\n",
    "model = model.to(device)"
   ]
  },
  {
   "cell_type": "code",
   "execution_count": 3,
   "id": "c4ae40ed",
   "metadata": {},
   "outputs": [
    {
     "name": "stdout",
     "output_type": "stream",
     "text": [
      "Processing file: pubmed24n0019\n",
      "There are 30000 articles.\n",
      "in progress 10000/30000\n",
      "in progress 20000/30000\n",
      "in progress 30000/30000\n",
      "The procedure took 156.3284740447998 seconds to run.\n",
      "Embeddings saved to ./data/pubmed24n0019.parquet. 1 files were processed.\n"
     ]
    }
   ],
   "source": [
    "folder = 'pubmed_2024'\n",
    "xml_processed = 0\n",
    "for file in os.listdir(folder):\n",
    "    if file.endswith('.xml.gz'):\n",
    "        try:\n",
    "            start_time = time.time()\n",
    "            file_path = f'{folder}/{file}'\n",
    "            with gzip.open(file_path, 'rt', encoding='utf-8') as gz_file:\n",
    "                file_name = file.removesuffix('.xml.gz')\n",
    "                print(f'Processing file: {file_name}')\n",
    "\n",
    "                tree = ET.parse(gz_file)\n",
    "                root = tree.getroot()\n",
    "                articles = root.findall(\".//PubmedArticle\")\n",
    "\n",
    "                print(f'There are {len(articles)} articles.')\n",
    "\n",
    "                count = 0\n",
    "                pmid_list = []\n",
    "                sentence_list = []\n",
    "                embedding_list = []\n",
    "                \n",
    "                for article in articles:\n",
    "                    pmid = article.findtext(\".//PMID\")\n",
    "                    title = article.findtext(\".//ArticleTitle\")\n",
    "                    abstract = article.findtext(\".//AbstractText\")\n",
    "                    if abstract and title:\n",
    "                        sentences = sent_tokenize(abstract)\n",
    "                        sentences.append(title)\n",
    "\n",
    "                    elif abstract and not title:\n",
    "                        sentences = sent_tokenize(abstract)\n",
    "\n",
    "                    elif not abstract and title:\n",
    "                        sentences = [title]\n",
    "\n",
    "                    else:\n",
    "                        warnings.warn(f\"PMID {pmid} has no abstract or title\")\n",
    "                        continue\n",
    "\n",
    "            #         embeddings = model.encode(sentences)\n",
    "                    embeddings = model.encode(sentences, device=device)\n",
    "                    pmid_list.extend([pmid] * len(sentences))\n",
    "                    sentence_list.extend(sentences)\n",
    "                    embedding_list.extend(embeddings)\n",
    "\n",
    "                    count += 1\n",
    "                    if count % 10000 == 0:\n",
    "                        print(f\"in progress {count}/{len(articles)}\")\n",
    "\n",
    "                end_time = time.time()\n",
    "                runtime = end_time - start_time\n",
    "                print(f\"The procedure took {runtime} seconds to run.\")\n",
    "\n",
    "                # Create a DataFrame with PMIDs, sentences, and embeddings\n",
    "                data = {'PMID': pmid_list, 'sentence': sentence_list, 'embedding': embedding_list}\n",
    "                df = pd.DataFrame(data)    \n",
    "\n",
    "                # Save the DataFrame to Parquet format\n",
    "                parquet_file_path = f'./data/{file_name}.parquet'\n",
    "                df.to_parquet(parquet_file_path, engine='pyarrow', index=False)\n",
    "                xml_processed += 1\n",
    "                print(f\"Embeddings saved to {parquet_file_path}. {xml_processed} files were processed.\")\n",
    "                    \n",
    "        except Exception as e:\n",
    "            print(f\"An error occurred: {e}\")\n",
    "      \n",
    "      "
   ]
  },
  {
   "cell_type": "code",
   "execution_count": null,
   "id": "ad74b177",
   "metadata": {},
   "outputs": [],
   "source": []
  }
 ],
 "metadata": {
  "anaconda-cloud": {},
  "kernelspec": {
   "display_name": "Python [conda env:.conda-RAG]",
   "language": "python",
   "name": "conda-env-.conda-RAG-py"
  },
  "language_info": {
   "codemirror_mode": {
    "name": "ipython",
    "version": 3
   },
   "file_extension": ".py",
   "mimetype": "text/x-python",
   "name": "python",
   "nbconvert_exporter": "python",
   "pygments_lexer": "ipython3",
   "version": "3.12.7"
  }
 },
 "nbformat": 4,
 "nbformat_minor": 5
}
